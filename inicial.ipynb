{
 "cells": [
  {
   "cell_type": "markdown",
   "metadata": {},
   "source": [
    "Projeto Python IA: Inteligência Artificial e Previsões\n",
    "Case: Score de Crédito dos Clientes\n",
    "\n",
    "Você foi contratado por um banco para conseguir definir o score de crédito dos clientes. Você precisa analisar todos os clientes do banco e, com base nessa análise, criar um modelo que consiga ler as informações do cliente e dizer automaticamente o score de crédito dele: Ruim, Ok, Bom"
   ]
  },
  {
   "cell_type": "code",
   "execution_count": null,
   "metadata": {},
   "outputs": [],
   "source": [
    "# importar a base de dados\n",
    "\n",
    "import pandas as pd\n",
    "\n",
    "tabela = pd.read_csv(\"clientes.csv\")\n",
    "display(tabela)\n"
   ]
  },
  {
   "cell_type": "code",
   "execution_count": null,
   "metadata": {},
   "outputs": [],
   "source": [
    "# Preparar a base de dados para a IA\n",
    "\n",
    "display(tabela.info())\n",
    "\n",
    "# Label encoder\n",
    "\n",
    "from sklearn.preprocessing import LabelEncoder\n",
    "codificador = LabelEncoder()\n",
    "\n",
    "#profissao\n",
    "\n",
    "tabela[\"profissao\"] = codificador.fit_transform(tabela[\"profissao\"])\n",
    "\n",
    "# mix_credito\n",
    "codificador2 = LabelEncoder()\n",
    "tabela[\"mix_credito\"] = codificador2.fit_transform(tabela[\"mix_credito\"])\n",
    "\n",
    "# comportamento_pagamento\n",
    "codificador3 = LabelEncoder()\n",
    "tabela[\"comportamento_pagamento\"] = codificador3.fit_transform(tabela[\"comportamento_pagamento\"])\n",
    "display(tabela.info())"
   ]
  },
  {
   "cell_type": "code",
   "execution_count": 8,
   "metadata": {},
   "outputs": [],
   "source": [
    "# Treinar a IA\n",
    "# y quem quero prever x quem vou usar para prever\n",
    "\n",
    "y = tabela[\"score_credito\"]\n",
    "x = tabela.drop(columns=[\"score_credito\",\"id_cliente\"])\n",
    "\n",
    "from sklearn.model_selection import train_test_split\n",
    "\n",
    "x_treino, x_teste, y_treino, y_teste = train_test_split(x, y, test_size=0.3, random_state=1)"
   ]
  },
  {
   "cell_type": "code",
   "execution_count": null,
   "metadata": {},
   "outputs": [],
   "source": [
    "# Criar um modelo de IA - Nota Score (Ruim, Ok, Bom)\n",
    "# Arvore de decisão - RandomForest\n",
    "# Vizinhos próximos - neighbors KNN\n",
    "\n",
    "# Importa IA\n",
    "from sklearn.ensemble import RandomForestClassifier\n",
    "from sklearn.neighbors import KNeighborsClassifier\n",
    "\n",
    "# cria a IA\n",
    "modelo_arvore_decisao = RandomForestClassifier()\n",
    "modelo_knn = KNeighborsClassifier()\n",
    "\n",
    "# treina a IA\n",
    "\n",
    "modelo_arvore_decisao.fit(x_treino, y_treino)\n",
    "modelo_knn.fit(x_treino, y_treino)\n",
    "\n"
   ]
  },
  {
   "cell_type": "code",
   "execution_count": 10,
   "metadata": {},
   "outputs": [
    {
     "data": {
      "text/plain": [
       "0.8249"
      ]
     },
     "metadata": {},
     "output_type": "display_data"
    },
    {
     "data": {
      "text/plain": [
       "0.7324"
      ]
     },
     "metadata": {},
     "output_type": "display_data"
    }
   ],
   "source": [
    "# Avaliar o melhor modelo\n",
    "\n",
    "previsao_arvoredecisao = modelo_arvore_decisao.predict(x_teste)\n",
    "previsao_knn = modelo_knn.predict(x_teste)\n",
    "\n",
    "# Acuracia\n",
    "\n",
    "from sklearn.metrics import accuracy_score\n",
    "\n",
    "display(accuracy_score(y_teste,previsao_arvoredecisao))\n",
    "display(accuracy_score(y_teste,previsao_knn))\n",
    "\n"
   ]
  },
  {
   "cell_type": "code",
   "execution_count": null,
   "metadata": {},
   "outputs": [],
   "source": [
    "# Fazer novas previsões\n",
    "tabela_novosclientes = pd.read_csv(\"novos_clientes.csv\")\n",
    "display(tabela_novosclientes)\n",
    "display(tabela.info())\n",
    "# \n",
    "\n",
    "tabela_novosclientes[\"profissao\"] = codificador.fit_transform(tabela_novosclientes[\"profissao\"])\n",
    "tabela_novosclientes[\"mix_credito\"] = codificador2.fit_transform(tabela_novosclientes[\"mix_credito\"])\n",
    "tabela_novosclientes[\"comportamento_pagamento\"] = codificador3.fit_transform(tabela_novosclientes[\"comportamento_pagamento\"])\n",
    "\n",
    "previsao = modelo_arvore_decisao.predict(tabela_novosclientes)\n",
    "display(previsao)"
   ]
  }
 ],
 "metadata": {
  "language_info": {
   "name": "python"
  }
 },
 "nbformat": 4,
 "nbformat_minor": 2
}
